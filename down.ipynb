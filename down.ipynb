{
 "metadata": {
  "language_info": {
   "codemirror_mode": {
    "name": "ipython",
    "version": 3
   },
   "file_extension": ".py",
   "mimetype": "text/x-python",
   "name": "python",
   "nbconvert_exporter": "python",
   "pygments_lexer": "ipython3",
   "version": "3.7.9-final"
  },
  "orig_nbformat": 2,
  "kernelspec": {
   "name": "python37964bitremindprojconda0f3a4a0f11a24391b223ad76f595a6c3",
   "display_name": "Python 3.7.9 64-bit ('remind_proj': conda)",
   "language": "python"
  }
 },
 "nbformat": 4,
 "nbformat_minor": 2,
 "cells": [
  {
   "cell_type": "code",
   "execution_count": 2,
   "metadata": {},
   "outputs": [
    {
     "output_type": "stream",
     "name": "stdout",
     "text": [
      "/home/ss2/miniconda3/envs/remind_proj/bin/python\n"
     ]
    }
   ],
   "source": [
    "!which python"
   ]
  },
  {
   "cell_type": "code",
   "execution_count": 4,
   "metadata": {},
   "outputs": [
    {
     "output_type": "error",
     "ename": "ModuleNotFoundError",
     "evalue": "No module named 'webdav3'",
     "traceback": [
      "\u001b[0;31m---------------------------------------------------------------------------\u001b[0m",
      "\u001b[0;31mModuleNotFoundError\u001b[0m                       Traceback (most recent call last)",
      "\u001b[0;32m<ipython-input-4-2e8fd12571c6>\u001b[0m in \u001b[0;36m<module>\u001b[0;34m\u001b[0m\n\u001b[0;32m----> 1\u001b[0;31m \u001b[0;32mfrom\u001b[0m \u001b[0mwebdav3\u001b[0m\u001b[0;34m.\u001b[0m\u001b[0mclient\u001b[0m \u001b[0;32mimport\u001b[0m \u001b[0mClient\u001b[0m\u001b[0;34m\u001b[0m\u001b[0;34m\u001b[0m\u001b[0m\n\u001b[0m\u001b[1;32m      2\u001b[0m options = {\n\u001b[1;32m      3\u001b[0m  \u001b[0;34m'webdav_hostname'\u001b[0m\u001b[0;34m:\u001b[0m \u001b[0;34m\" https://b2drop.bsc.es/public.php/webdav/\"\u001b[0m\u001b[0;34m,\u001b[0m\u001b[0;34m\u001b[0m\u001b[0;34m\u001b[0m\u001b[0m\n\u001b[1;32m      4\u001b[0m  \u001b[0;34m'webdav_login'\u001b[0m\u001b[0;34m:\u001b[0m    \u001b[0;34m\"BIMCV-PadChest-FULL\"\u001b[0m\u001b[0;34m,\u001b[0m\u001b[0;34m\u001b[0m\u001b[0;34m\u001b[0m\u001b[0m\n\u001b[1;32m      5\u001b[0m  \u001b[0;34m'webdav_password'\u001b[0m\u001b[0;34m:\u001b[0m \u001b[0;34m\"\"\u001b[0m\u001b[0;34m\u001b[0m\u001b[0;34m\u001b[0m\u001b[0m\n",
      "\u001b[0;31mModuleNotFoundError\u001b[0m: No module named 'webdav3'"
     ]
    }
   ],
   "source": [
    "from webdav3.client import Client\n",
    "options = {\n",
    " 'webdav_hostname': \" https://b2drop.bsc.es/public.php/webdav/\",\n",
    " 'webdav_login':    \"BIMCV-PadChest-FULL\",\n",
    " 'webdav_password': \"\"\n",
    "}\n",
    "client = Client(options)\n",
    "#client.verify = False # To not check SSL certificates (Default = True)\n",
    "#client.session.proxies(...) # To set proxy directly into the session (Optional)\n",
    "#client.session.auth(...) # To set proxy auth directly into the session (Optional)"
   ]
  },
  {
   "cell_type": "code",
   "execution_count": null,
   "metadata": {},
   "outputs": [],
   "source": []
  }
 ]
}